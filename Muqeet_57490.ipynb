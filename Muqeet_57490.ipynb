{
 "cells": [
  {
   "cell_type": "markdown",
   "id": "92eb5544-ba4f-455b-b759-366d4eaf7801",
   "metadata": {},
   "source": [
    "### Assignment 1: Primitive Types\n",
    "\n",
    "#### 1. Temperature Conversion\n",
    "\n",
    "Create a program to convert temperatures between Celsius and Fahrenheit.\n",
    "\n",
    "#### 2. Login System\n",
    "\n",
    "Develop a login system storing whether a user is an administrator or not.\n",
    "\n",
    "#### 3. Student Information System\n",
    "\n",
    "Design a system to store student information including name, age, and completion status of assignments.\n",
    "\n",
    "#### 4. Book Reading Time\n",
    "\n",
    "Write a program to calculate the time needed to read a book, given its number of pages.\n",
    "\n",
    "#### 5. Item Price Calculation\n",
    "\n",
    "Calculate the final price of an item after applying a 10% discount.\n",
    "\n",
    "#### 6. Rectangle Area Calculation\n",
    "\n",
    "Compute and display the area of a rectangle using its length and width.\n",
    "\n",
    "Provide Python code solutions for each question along with brief explanations.\n"
   ]
  },
  {
   "cell_type": "code",
   "execution_count": 1,
   "id": "f9a853fe-ba62-46b1-ae23-453568eb4240",
   "metadata": {},
   "outputs": [
    {
     "name": "stdout",
     "output_type": "stream",
     "text": [
      "30°C is equal to 86.0°F\n",
      "Number of pages: 200\n",
      "Reading time: 400 minutes\n",
      "Original price: $100\n",
      "Discount: 10%\n",
      "Final price: $90.0\n",
      "The area of the rectangle is 15 square units.\n"
     ]
    }
   ],
   "source": [
    "# 1. Temperature Conversion\n",
    "def celsius_to_fahrenheit(celsius):\n",
    "    fahrenheit = (9 / 5) * celsius + 32\n",
    "    return fahrenheit\n",
    "\n",
    "def fahrenheit_to_celsius(fahrenheit):\n",
    "    celsius = (fahrenheit - 32) * (5 / 9)\n",
    "    return celsius\n",
    "\n",
    "# Example usage:\n",
    "celsius_temp = 30\n",
    "fahrenheit_temp = celsius_to_fahrenheit(celsius_temp)\n",
    "print(f\"{celsius_temp}°C is equal to {fahrenheit_temp}°F\")\n",
    "\n",
    "# 2. Login System\n",
    "# Storing whether a user is an administrator or not\n",
    "is_admin = True\n",
    "\n",
    "# 3. Student Information System\n",
    "# Storing student information\n",
    "student_name = \"John Doe\"\n",
    "student_age = 20\n",
    "assignments_completed = False\n",
    "\n",
    "# 4. Book Reading Time\n",
    "# Storing the number of pages in a book and calculating reading time\n",
    "num_pages = 200\n",
    "reading_time = num_pages * 2  # assuming 2 minutes per page\n",
    "print(f\"Number of pages: {num_pages}\")\n",
    "print(f\"Reading time: {reading_time} minutes\")\n",
    "\n",
    "# 5. Item Price Calculation\n",
    "# Storing price of an item and applying discount\n",
    "original_price = 100\n",
    "discount_percentage = 10\n",
    "discount_amount = (discount_percentage / 100) * original_price\n",
    "final_price = original_price - discount_amount\n",
    "print(f\"Original price: ${original_price}\")\n",
    "print(f\"Discount: {discount_percentage}%\")\n",
    "print(f\"Final price: ${final_price}\")\n",
    "\n",
    "# 6. Rectangle Area Calculation\n",
    "length = 5\n",
    "width = 3\n",
    "\n",
    "area = length * width\n",
    "\n",
    "print(f\"The area of the rectangle is {area} square units.\")\n",
    "\n"
   ]
  }
 ],
 "metadata": {
  "kernelspec": {
   "display_name": "Python 3 (ipykernel)",
   "language": "python",
   "name": "python3"
  },
  "language_info": {
   "codemirror_mode": {
    "name": "ipython",
    "version": 3
   },
   "file_extension": ".py",
   "mimetype": "text/x-python",
   "name": "python",
   "nbconvert_exporter": "python",
   "pygments_lexer": "ipython3",
   "version": "3.12.2"
  }
 },
 "nbformat": 4,
 "nbformat_minor": 5
}
